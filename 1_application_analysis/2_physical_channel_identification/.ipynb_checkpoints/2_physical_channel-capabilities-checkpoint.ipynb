{
 "cells": [
  {
   "cell_type": "markdown",
   "id": "b2199056",
   "metadata": {},
   "source": [
    "## this python script create the correlation between trigger capablity and physical channels"
   ]
  },
  {
   "cell_type": "code",
   "execution_count": 114,
   "id": "75e0ebeb",
   "metadata": {},
   "outputs": [],
   "source": [
    "from gensim.models import Word2Vec, KeyedVectors \n",
    "from scipy.spatial.distance import cdist # for the Manhattan distance\n",
    "import json   # for read the JSON file\n",
    "import stanza # Official Stanford NLP Python Library for Many Human Languages\n",
    "import re     # for preprocessing the descriptions (necessary for using the word2vec)\n",
    "import numpy as np"
   ]
  },
  {
   "cell_type": "code",
   "execution_count": 115,
   "id": "6da7b80c",
   "metadata": {},
   "outputs": [
    {
     "name": "stdout",
     "output_type": "stream",
     "text": [
      "tot app analysed: 84\n"
     ]
    }
   ],
   "source": [
    "file = open(\"trigger-action_FINAL.JSON\",\"r\") # read all the capability extrapolated from the apps\n",
    "trigger_action = json.load(file)\n",
    "print(\"tot app analysed:\",len(trigger_action.keys()))"
   ]
  },
  {
   "cell_type": "code",
   "execution_count": 116,
   "id": "6a1fb373",
   "metadata": {},
   "outputs": [],
   "source": [
    "file = open(\"app-description.JSON\",\"r\") # need the desription of the analysed apps\n",
    "app_description = json.load(file)"
   ]
  },
  {
   "cell_type": "code",
   "execution_count": 117,
   "id": "0d92f3dd",
   "metadata": {},
   "outputs": [],
   "source": [
    "file = open(\"cluster_pysical_channels_FINAL.JSON\",\"r\") \n",
    "dict_physical_channels = json.load(file)"
   ]
  },
  {
   "cell_type": "code",
   "execution_count": 102,
   "id": "f312e068",
   "metadata": {},
   "outputs": [
    {
     "data": {
      "application/vnd.jupyter.widget-view+json": {
       "model_id": "e6bf09c5577247b493753079e4ba1cfd",
       "version_major": 2,
       "version_minor": 0
      },
      "text/plain": [
       "Downloading https://raw.githubusercontent.com/stanfordnlp/stanza-resources/main/resources_1.2.2.json:   0%|   …"
      ]
     },
     "metadata": {},
     "output_type": "display_data"
    },
    {
     "name": "stderr",
     "output_type": "stream",
     "text": [
      "2021-09-23 12:07:31 INFO: Downloading default packages for language: en (English)...\n",
      "2021-09-23 12:07:32 INFO: File exists: /home/volta/stanza_resources/en/default.zip.\n",
      "2021-09-23 12:07:37 INFO: Finished downloading models and saved to /home/volta/stanza_resources.\n",
      "2021-09-23 12:07:37 INFO: Loading these models for language: en (English):\n",
      "=========================\n",
      "| Processor | Package   |\n",
      "-------------------------\n",
      "| tokenize  | combined  |\n",
      "| pos       | combined  |\n",
      "| lemma     | combined  |\n",
      "| depparse  | combined  |\n",
      "| sentiment | sstplus   |\n",
      "| ner       | ontonotes |\n",
      "=========================\n",
      "\n",
      "2021-09-23 12:07:37 INFO: Use device: cpu\n",
      "2021-09-23 12:07:37 INFO: Loading: tokenize\n",
      "2021-09-23 12:07:37 INFO: Loading: pos\n",
      "2021-09-23 12:07:37 INFO: Loading: lemma\n",
      "2021-09-23 12:07:38 INFO: Loading: depparse\n",
      "2021-09-23 12:07:38 INFO: Loading: sentiment\n",
      "2021-09-23 12:07:38 INFO: Loading: ner\n",
      "2021-09-23 12:07:39 INFO: Done loading processors!\n"
     ]
    }
   ],
   "source": [
    "stanza.download('en')       # This downloads the English models for the neural pipeline\n",
    "nlp = stanza.Pipeline('en') # This sets up a default neural pipeline in English\n",
    "model = KeyedVectors.load_word2vec_format('/home/volta/Documenti/CCS18_CS/word2vec/GoogleNews-vectors-negative300.bin', binary=True, limit=100000) # load word2vec pre-trained"
   ]
  },
  {
   "cell_type": "code",
   "execution_count": 118,
   "id": "2522ddff",
   "metadata": {},
   "outputs": [
    {
     "name": "stdout",
     "output_type": "stream",
     "text": [
      "['home', 'phrase', 'door', 'region']\n",
      "most similar: leakage 10.54866173459838\n",
      "[]\n",
      "-->app [big-turn-off] non presenta nessun NN o NNS\n",
      "[]\n",
      "-->app [big-turn-on] non presenta nessun NN o NNS\n",
      "['set', 'presence', 'mode', 'change', 'everyone', 'conjunction', 'turn', 'thermostat', 'security']\n",
      "most similar: humidity 11.983659036882779\n",
      "['sensor', 'space']\n",
      "most similar: motion 33.11494973798593\n",
      "['motion']\n",
      "most similar: motion 50.601282715797424\n",
      "['control']\n",
      "most similar: motion 13.009269287188848\n",
      "['power', 'time']\n",
      "most similar: location 12.271495763626364\n",
      "[]\n",
      "-->app [cameras-on-when-im-away] non presenta nessun NN o NNS\n",
      "['carpooling', 'person', 'notification']\n",
      "most similar: leakage 18.99312634745406\n",
      "['valve', 'moisture', 'sms', 'notification']\n",
      "most similar: temperature 20.499257955598296\n",
      "['outlet', 'user', 'period', 'time']\n",
      "most similar: location 13.965508308158153\n",
      "['period', 'motion']\n",
      "most similar: motion 25.13533596259852\n",
      "['number', 'switch', 'row']\n",
      "most similar: illumination 8.88240902656407\n",
      "['moisture', 'sensor', 'input']\n",
      "most similar: temperature 31.70749587317308\n",
      "['time', 'cabinet', 'door', 'set', 'schedule']\n",
      "most similar: location 9.953579554437763\n",
      "['motion', 'bedroom', 'bathroom', 'night', 'occupant', 'period', 'time']\n",
      "most similar: motion 14.659544829988763\n",
      "['energy']\n",
      "most similar: humidity 21.49893892928958\n",
      "['energy']\n",
      "most similar: humidity 21.49893892928958\n",
      "['schedule', 'pet', 'food', 'feeder', 'app', 'time', 'life']\n",
      "most similar: location 12.201305530551407\n",
      "['push', 'notification', 'text', 'message', 'water']\n",
      "most similar: leakage 24.307128124249473\n",
      "['something', 'grace', 'period', 'presence']\n",
      "most similar: location 11.3427681563836\n",
      "['garage', 'door', 'text', 'message']\n",
      "most similar: leakage 24.021673998019345\n",
      "['garage', 'door', 'switch']\n",
      "most similar: smoke 16.476515910277765\n",
      "['motion', 'time', 'night']\n",
      "most similar: motion 21.524269754687943\n",
      "['set', 'presence', 'mode', 'change', 'someone', 'home']\n",
      "most similar: location 12.656802366729137\n",
      "['something', 'day', 'text', 'message']\n",
      "most similar: leakage 23.79426932117591\n",
      "['schedule', 'pet', 'food', 'feeder', 'app', 'time', 'life']\n",
      "most similar: location 12.201305530551407\n",
      "handling Error:  \"Key 'ip' not present\"\n",
      "['hub']\n",
      "most similar: location 29.078014608886505\n",
      "['humidity', 'threshold', 'switch']\n",
      "most similar: humidity 23.328834098841376\n",
      "['text', 'movement']\n",
      "most similar: leakage 18.535382611056168\n",
      "['temperature', 'setting', 'text', 'heater', 'appliance']\n",
      "most similar: humidity 27.020158966770396\n",
      "handling Error:  \"Key 'a/c' not present\"\n",
      "['temperature', 'setting', 'notification', 'unit', 'fan']\n",
      "most similar: humidity 17.391574152279645\n",
      "['thermostat', 'response', 'mode', 'change', 'energy', 'money']\n",
      "most similar: humidity 17.185776511784447\n",
      "['temperature', 'sensor', 'space', 'thermostat', 'time']\n",
      "most similar: temperature 31.41302961856127\n",
      "['message', 'light', 'laundry']\n",
      "most similar: illumination 19.79561228495599\n",
      "['door', 'window', 'amount', 'time']\n",
      "most similar: smoke 11.612002670299262\n",
      "['contact', 'sensor']\n",
      "most similar: motion 31.096983700990677\n",
      "['multi']\n",
      "most similar: motion 12.997696300347647\n",
      "['motion', 'period', 'time']\n",
      "most similar: motion 19.686673674732447\n",
      "['sensor']\n",
      "most similar: motion 55.920313795407615\n",
      "[]\n",
      "-->app [light-up-the-night] non presenta nessun NN o NNS\n",
      "['door', 'time', 'option', 'contact', 'sensor']\n",
      "most similar: motion 17.68875616292159\n",
      "handling Error:  \"Key 'deadbolt' not present\"\n",
      "['lever', 'lock', 'presence', 'tag', 'smartphone', 'location']\n",
      "most similar: location 16.694456820065774\n",
      "['text', 'mail', 'mailbox', 'multi', 'door', 'note', 'battery', 'life']\n",
      "most similar: leakage 19.127865765949537\n",
      "handling Error:  \"Key 'setpoint' not present\"\n",
      "['set', 'thermostat', 'mode', 'change', 'app', 'state']\n",
      "most similar: humidity 14.520200546636866\n",
      "['app', 'ambient', 'light', 'notification', 'drawer', 'cabinet', 'reminder', 'time', 'day', 'draw', 'message', 'led']\n",
      "most similar: leakage 12.733189499865857\n",
      "['hue']\n",
      "most similar: illumination 30.785568803548813\n",
      "handling Error:  \"Key 'toggling' not present\"\n",
      "['switch', 'lock', 'garage', 'door', 'tag', 'touch', 'event']\n",
      "most similar: motion 11.695155031269506\n",
      "['push', 'message', 'phone', 'sensor']\n",
      "most similar: leakage 22.35052627608335\n",
      "['time']\n",
      "most similar: location 14.298153565161758\n",
      "['burst', 'push', 'notification']\n",
      "most similar: leakage 15.403093732634765\n",
      "handling Error:  \"Key 'curling_iron' not present\"\n",
      "['energy', 'time', 'appliance', 'tv', 'use', 'switch', 'number']\n",
      "most similar: humidity 13.196662673726678\n",
      "['push', 'notification', 'presence', 'tag', 'smartphone', 'location']\n",
      "most similar: location 16.508234401354223\n",
      "['text', 'message', 'presence', 'status']\n",
      "most similar: leakage 21.56615929173616\n",
      "handling Error:  \"Key 'inclement' not present\"\n",
      "['weather']\n",
      "most similar: humidity 40.566656179726124\n",
      "['arrival', 'departure', 'car', 'door', 'n', 'motion', 'interior']\n",
      "most similar: motion 13.355203623706032\n",
      "['someone', 'time', 'morning']\n",
      "most similar: location 12.036201323348063\n",
      "['time', 'day']\n",
      "most similar: location 13.687103831519684\n",
      "['sleep', 'mode', 'house', 'bed', 'morning', 'button', 'up']\n",
      "most similar: humidity 14.186387204972561\n",
      "['time', 'cabinet', 'door', 'set', 'schedule']\n",
      "most similar: location 9.953579554437763\n",
      "['motion', 'bedroom', 'bathroom', 'night', 'occupant', 'period', 'time']\n",
      "most similar: motion 14.659544829988763\n",
      "handling Error:  \"Key 'humidifier' not present\"\n",
      "['humidity', 'sensor']\n",
      "most similar: temperature 42.40740083158017\n",
      "['motion', 'light', 'time']\n",
      "most similar: motion 27.182724409633213\n",
      "['glass', 'water', 'middle', 'night']\n",
      "most similar: humidity 15.331628589774482\n",
      "['device', 'time', 'week', 'person']\n",
      "most similar: motion 15.215337928384542\n",
      "['mode', 'sunrise', 'sunset']\n",
      "most similar: illumination 17.69367519088767\n",
      "['text', 'message', 'phone', 'sensor']\n",
      "most similar: leakage 28.796478072763414\n",
      "['text', 'message', 'motion']\n",
      "most similar: leakage 26.094713730950993\n",
      "['collection', 'state', 'switch']\n",
      "most similar: illumination 9.56851275016864\n",
      "['set', 'response', 'motion', 'event', 'switch']\n",
      "most similar: motion 17.934054285287854\n",
      "['text', 'gun', 'case']\n",
      "most similar: leakage 16.553304522919156\n",
      "['thermostat', 'everything']\n",
      "most similar: humidity 30.907518276944757\n",
      "['anything', 'home']\n",
      "most similar: leakage 11.517107455680767\n",
      "['switch']\n",
      "most similar: illumination 16.145284338430923\n",
      "['something']\n",
      "most similar: location 14.042391007145246\n",
      "['something', 'sensor']\n",
      "most similar: motion 34.40247289836407\n",
      "['something', 'sunset', 'anytime']\n",
      "most similar: illumination 13.016035091696363\n",
      "['warning']\n",
      "most similar: leakage 25.465016191204388\n",
      "['door', 'location']\n",
      "most similar: location 22.005523782637383\n",
      "['space', 'heater', 'window', 'air_conditioner', 'conjunction', 'temperature', 'sensor', 'multi']\n",
      "most similar: temperature 26.345571266138002\n",
      "['shed', 'grill', 'lawn', 'tomorrow']\n",
      "most similar: humidity 14.765520093715168\n",
      "['house', 'fan', 'switch', 'x', 'temp', 'thermostat']\n",
      "most similar: temperature 20.170890445200108\n",
      "['time', 'day', 'person', 'home', 'action']\n",
      "most similar: location 12.032008998923834\n"
     ]
    }
   ],
   "source": [
    "POS_accepted=[\"NN\"]  # part of speech tags accepted ---> deleted: \"NNS\", \"NNP\", \"NNPS\"\n",
    "app_to_physical_channel = {}\n",
    "for app in trigger_action.keys(): # analyse every app\n",
    "    keywords = [] # keywords found of an app description -> dictionary as \"keyword\": 300-vector description space\n",
    "    #print(\"analysing app description\", app)\n",
    "    #app=\"beacon-control\"\n",
    "    des_analysed = nlp(app_description[app])     # apply Stanford NLP to description\n",
    "    for sent in des_analysed.sentences:\n",
    "        for word in sent.words:                               # check each word of the description\n",
    "            if word.xpos in POS_accepted:\n",
    "                keyword_found = word.text.lower()             # filter: to all lowercase words\n",
    "                if not keyword_found in keywords:      # if not already saved, store that word of the same desc\n",
    "                    #print(f\"found word:{word.text}   \\txpos: {word.xpos}\\n\")\n",
    "                    keywords.append(keyword_found)            # add to the list of keywords\n",
    "\n",
    "    # after finish to check the app description words\n",
    "    clean_keywords = []\n",
    "    for i in range(len(keywords)):                            # for every keyword exstracted\n",
    "        try:\n",
    "            model[keywords[i]]                                # check Word2Vec\n",
    "            clean_keywords.append(keywords[i])\n",
    "        except KeyError as err:\n",
    "            print(\"handling Error: \", err)                    # some words can not be processed by Word2Vec\n",
    "\n",
    "    print(clean_keywords)        \n",
    "    similarity_matrix = {}\n",
    "\n",
    "    if len(clean_keywords) == 0: # case there aren't any NN o NNS keyword inside that app description (strange)\n",
    "        print(f\"-->app [{app}] non presenta nessun NN o NNS\")\n",
    "\n",
    "    else:\n",
    "        if len(clean_keywords) == 1: # case there are only 1 NN o NNS keyword inside that app description\n",
    "            for key in dict_physical_channels.keys(): # check for every physical channel\n",
    "                similarity_temp = 0\n",
    "                for channel_NN in range(len(dict_physical_channels[key])):\n",
    "                    similarity_temp += model.similarity(clean_keywords[0],dict_physical_channels[key][channel_NN])\n",
    "                similarity_matrix[key] = (similarity_temp/len(dict_physical_channels[key]))*100\n",
    "\n",
    "        else: # case there are more than 1 NN o NNS keyword inside that app description\n",
    "            for key in dict_physical_channels.keys(): # check for every physical channel\n",
    "                similarity_partial = 0\n",
    "                for keyword in clean_keywords:\n",
    "                    similarity_temp = 0\n",
    "                    for channel_NN in dict_physical_channels[key]:\n",
    "                        #print(keyword,channel_NN,\"\\t\", model.similarity(keyword,channel_NN))\n",
    "                        similarity_temp += model.similarity(keyword,channel_NN)\n",
    "\n",
    "                    similarity_temp = similarity_temp/len(dict_physical_channels[key])\n",
    "                    #print(keyword, similarity_temp)\n",
    "                    similarity_partial += similarity_temp\n",
    "                    #print(keyword, similarity_partial)\n",
    "                #print(\"this keyword for \",key,\"has got a level\", similarity_partial/len(clean_keywords))\n",
    "                similarity_matrix[key] = (similarity_partial/len(clean_keywords))*100\n",
    "        channel_association = \"\"\n",
    "        max_value = 0\n",
    "        for key in similarity_matrix.keys():\n",
    "            if (similarity_matrix[key] > max_value):\n",
    "                max_value = similarity_matrix[key]\n",
    "                channel_association = key\n",
    "\n",
    "\n",
    "        #print(similarity_matrix)\n",
    "        print(\"most similar:\", channel_association, max_value)\n",
    "        app_to_physical_channel[app] = channel_association\n",
    "# y_correlation = np.argmin(distance_matrix) % 7            # remember from 0 to 6 ! [7 physical channels]\n",
    "# physical_channel_tag = switch_physical_channel(y_correlation)\n",
    "# #print(physical_channel_tag)\n",
    "# discharge = [\"capability.app\", \"time\", \"capability.powerMeter\", \"capability.accelerationSensor\"]\n",
    "# for capability in trigger_action[app].keys():  \n",
    "#     if not capability in discharge: \n",
    "#         print(f\"[{app}] use P_Ch:{physical_channel_tag}\\tcap:{capability}\")\n",
    "#         physical_ch_capabilities[physical_channel_tag].append(capability)\n",
    "#     else:\n",
    "#         print(f\"[{app}]--- time, app or powerMeter\")"
   ]
  },
  {
   "cell_type": "code",
   "execution_count": 119,
   "id": "d40bb49e",
   "metadata": {},
   "outputs": [
    {
     "data": {
      "text/plain": [
       "{'beacon-control': 'leakage',\n",
       " 'bon-voyage': 'humidity',\n",
       " 'brighten-dark-places': 'motion',\n",
       " 'brighten-my-path': 'motion',\n",
       " 'button-controller': 'motion',\n",
       " 'camera-power-scheduler': 'location',\n",
       " 'carpool-notifier': 'leakage',\n",
       " 'close-the-valve': 'temperature',\n",
       " 'curling-iron': 'location',\n",
       " 'darken-behind-me': 'motion',\n",
       " 'double-tap': 'illumination',\n",
       " 'dry-the-wetspot': 'temperature',\n",
       " 'elder-care-daily-routine': 'location',\n",
       " 'elder-care-slip-fall': 'motion',\n",
       " 'energy-alerts': 'humidity',\n",
       " 'energy-saver': 'humidity',\n",
       " 'feed-my-pet': 'location',\n",
       " 'flood-alert': 'leakage',\n",
       " 'forgiving-security': 'location',\n",
       " 'garage-door-monitor': 'leakage',\n",
       " 'garage-door-opener': 'smoke',\n",
       " 'good-night': 'motion',\n",
       " 'greetings-earthling': 'location',\n",
       " 'habit-helper': 'leakage',\n",
       " 'has-barkley-been-fed': 'location',\n",
       " 'hub-ip-notifier': 'location',\n",
       " 'humidity-alert': 'humidity',\n",
       " 'it-moved': 'leakage',\n",
       " 'its-too-cold': 'humidity',\n",
       " 'its-too-hot': 'humidity',\n",
       " 'keep-me-cozy': 'humidity',\n",
       " 'keep-me-cozy-ii': 'temperature',\n",
       " 'laundry-monitor': 'illumination',\n",
       " 'left-it-open': 'smoke',\n",
       " 'let-there-be-dark': 'motion',\n",
       " 'let-there-be-light': 'motion',\n",
       " 'light-follows-me': 'motion',\n",
       " 'lights-off-when-closed': 'motion',\n",
       " 'lock-it-at-a-specific-time': 'motion',\n",
       " 'lock-it-when-i-leave': 'location',\n",
       " 'mail-arrived': 'leakage',\n",
       " 'make-it-so': 'humidity',\n",
       " 'medicine-management-contact-sensor': 'leakage',\n",
       " 'mini-hue-controller': 'illumination',\n",
       " 'nfc-tag-toggle': 'motion',\n",
       " 'notify-me-when-it-opens': 'leakage',\n",
       " 'once-a-day': 'location',\n",
       " 'photo-burst-when': 'leakage',\n",
       " 'power-allowance': 'humidity',\n",
       " 'presence-change-push': 'location',\n",
       " 'presence-change-text': 'leakage',\n",
       " 'ready-for-rain': 'humidity',\n",
       " 'ridiculously-automated-garage-door': 'motion',\n",
       " 'rise-and-shine': 'location',\n",
       " 'scheduled-mode-change': 'location',\n",
       " 'sleepy-time': 'humidity',\n",
       " 'smart-care-daily-routine': 'location',\n",
       " 'smart-care-detect-motion': 'motion',\n",
       " 'smart-humidifier': 'temperature',\n",
       " 'smart-nightlight': 'motion',\n",
       " 'smart-security': 'humidity',\n",
       " 'smart-turn-it-on': 'motion',\n",
       " 'sunrise-sunset': 'illumination',\n",
       " 'text-me-when-it-opens': 'leakage',\n",
       " 'text-me-when-theres-motion-and-im-not-here': 'leakage',\n",
       " 'the-big-switch': 'illumination',\n",
       " 'the-flasher': 'motion',\n",
       " 'the-gun-case-moved': 'leakage',\n",
       " 'thermostat-auto-off': 'humidity',\n",
       " 'thermostats': 'leakage',\n",
       " 'turn-it-on-for-5-minutes': 'illumination',\n",
       " 'turn-it-on-when-im-here': 'location',\n",
       " 'turn-it-on-when-it-opens': 'motion',\n",
       " 'turn-on-only-if-i-arrive-after-sunset': 'illumination',\n",
       " 'undead-early-warning': 'leakage',\n",
       " 'unlock-it-when-i-arrive': 'location',\n",
       " 'virtual-thermostat': 'temperature',\n",
       " 'when-its-going-to-rain': 'humidity',\n",
       " 'whole-house-fan': 'temperature',\n",
       " 'working-from-home': 'location'}"
      ]
     },
     "execution_count": 119,
     "metadata": {},
     "output_type": "execute_result"
    }
   ],
   "source": [
    "app_to_physical_channel"
   ]
  },
  {
   "cell_type": "code",
   "execution_count": 126,
   "id": "b2f4d5fc",
   "metadata": {},
   "outputs": [],
   "source": [
    "dict_channels_capability={\"temperature\":[], \"humidity\":[], \"illumination\":[], \"location\":[],\n",
    "                          \"motion\":[], \"smoke\":[], \"leakage\":[]}\n",
    "dict_actions_capability={\"temperature\":[], \"humidity\":[], \"illumination\":[], \"location\":[],\n",
    "                          \"motion\":[], \"smoke\":[], \"leakage\":[]}\n",
    "\n",
    "capability_not_accepted = [\"capability.app\",\"time\", \"sendAction\", \"locationMode\", \"hub\",\n",
    "                          \"capability.switch\", \"capability.lock\", \"capability.button\",\n",
    "                           \"capability.powerMeter\",\"device.jawboneUser\"]\n",
    "for app in app_to_physical_channel.keys():\n",
    "    list_of_capabilities = trigger_action[app].keys()\n",
    "    for capability in list_of_capabilities:\n",
    "        if not capability in capability_not_accepted:\n",
    "            if not capability in dict_channels_capability[app_to_physical_channel[app]]:\n",
    "                dict_channels_capability[app_to_physical_channel[app]].append(capability)"
   ]
  },
  {
   "cell_type": "code",
   "execution_count": 127,
   "id": "7a6be4b1",
   "metadata": {},
   "outputs": [
    {
     "data": {
      "text/plain": [
       "{'temperature': ['capability.waterSensor',\n",
       "  'capability.location',\n",
       "  'capability.temperatureMeasurement',\n",
       "  'capability.thermostat',\n",
       "  'capability.relativeHumidityMeasurement',\n",
       "  'capability.motionSensor',\n",
       "  'capability.contactSensor'],\n",
       " 'humidity': ['capability.presenceSensor',\n",
       "  'capability.relativeHumidityMeasurement',\n",
       "  'capability.temperatureMeasurement',\n",
       "  'capability.thermostat',\n",
       "  'capability.location',\n",
       "  'capability.contactSensor',\n",
       "  'capability.motionSensor',\n",
       "  'capability.alarm'],\n",
       " 'illumination': ['capability.accelerationSensor',\n",
       "  'capability.location',\n",
       "  'capability.contactSensor',\n",
       "  'capability.presenceSensor'],\n",
       " 'location': ['capability.motionSensor',\n",
       "  'capability.presenceSensor',\n",
       "  'capability.contactSensor',\n",
       "  'capability.location'],\n",
       " 'motion': ['capability.contactSensor',\n",
       "  'capability.motionSensor',\n",
       "  'capability.location',\n",
       "  'capability.touchSensor',\n",
       "  'capability.presenceSensor',\n",
       "  'capability.accelerationSensor'],\n",
       " 'smoke': ['capability.contactSensor'],\n",
       " 'leakage': ['capability.beacon',\n",
       "  'capability.presenceSensor',\n",
       "  'capability.waterSensor',\n",
       "  'capability.threeAxis',\n",
       "  'capability.accelerationSensor',\n",
       "  'capability.contactSensor',\n",
       "  'capability.motionSensor',\n",
       "  'capability.smokeDetector',\n",
       "  'capability.carbonMonoxideDetector']}"
      ]
     },
     "execution_count": 127,
     "metadata": {},
     "output_type": "execute_result"
    }
   ],
   "source": [
    "dict_channels_capability"
   ]
  },
  {
   "cell_type": "code",
   "execution_count": 128,
   "id": "00f59953",
   "metadata": {},
   "outputs": [
    {
     "name": "stdout",
     "output_type": "stream",
     "text": [
      "capability.waterSensor\n",
      "capability.location\n",
      "capability.temperatureMeasurement\n",
      "capability.thermostat\n",
      "capability.relativeHumidityMeasurement\n",
      "capability.motionSensor\n",
      "capability.contactSensor\n",
      "capability.presenceSensor\n",
      "capability.relativeHumidityMeasurement\n",
      "capability.temperatureMeasurement\n",
      "capability.thermostat\n",
      "capability.location\n",
      "capability.contactSensor\n",
      "capability.motionSensor\n",
      "capability.alarm\n",
      "capability.accelerationSensor\n",
      "capability.location\n",
      "capability.contactSensor\n",
      "capability.presenceSensor\n",
      "capability.motionSensor\n",
      "capability.presenceSensor\n",
      "capability.contactSensor\n",
      "capability.location\n",
      "capability.contactSensor\n",
      "capability.motionSensor\n",
      "capability.location\n",
      "capability.touchSensor\n",
      "capability.presenceSensor\n",
      "capability.accelerationSensor\n",
      "capability.contactSensor\n",
      "capability.beacon\n",
      "capability.presenceSensor\n",
      "capability.waterSensor\n",
      "capability.threeAxis\n",
      "capability.accelerationSensor\n",
      "capability.contactSensor\n",
      "capability.motionSensor\n",
      "capability.smokeDetector\n",
      "capability.carbonMonoxideDetector\n"
     ]
    },
    {
     "data": {
      "text/plain": [
       "1"
      ]
     },
     "execution_count": 128,
     "metadata": {},
     "output_type": "execute_result"
    }
   ],
   "source": [
    "myFile = open(\"set_of_capability_related_physical_channels.JSON\",\"w\")\n",
    "myFile.write(\"{\\n\")\n",
    "for key in dict_channels_capability.keys():\n",
    "    myFile.write(f\"\\\"{key}\\\":[\")\n",
    "    for element in dict_channels_capability[key]:\n",
    "        print(element)\n",
    "        myFile.write(f\"\\\"{element}\\\",\")\n",
    "    myFile.write(\"],\\n\")\n",
    "myFile.write(\"}\")"
   ]
  },
  {
   "cell_type": "code",
   "execution_count": 129,
   "id": "15dd59c4",
   "metadata": {},
   "outputs": [
    {
     "data": {
      "text/plain": [
       "{'temperature': ['capability.thermostat',\n",
       "  'capability.thermostat',\n",
       "  'capability.thermostat',\n",
       "  'capability.thermostat',\n",
       "  'capability.thermostat',\n",
       "  'capability.thermostat',\n",
       "  'capability.thermostat',\n",
       "  'capability.thermostat',\n",
       "  'capability.thermostat',\n",
       "  'capability.thermostat',\n",
       "  'capability.thermostat',\n",
       "  'capability.thermostat',\n",
       "  'capability.thermostat',\n",
       "  'capability.thermostat',\n",
       "  'capability.thermostat',\n",
       "  'capability.thermostat',\n",
       "  'capability.thermostat',\n",
       "  'capability.thermostat'],\n",
       " 'humidity': ['capability.alarm',\n",
       "  'capability.alarm',\n",
       "  'capability.thermostat',\n",
       "  'capability.thermostat',\n",
       "  'capability.thermostat',\n",
       "  'capability.thermostat',\n",
       "  'capability.thermostat',\n",
       "  'capability.thermostat',\n",
       "  'capability.thermostat',\n",
       "  'capability.thermostat',\n",
       "  'capability.thermostat',\n",
       "  'capability.thermostat',\n",
       "  'capability.thermostat',\n",
       "  'capability.thermostat',\n",
       "  'capability.thermostat',\n",
       "  'capability.alarm',\n",
       "  'capability.alarm',\n",
       "  'capability.alarm',\n",
       "  'capability.alarm',\n",
       "  'capability.alarm',\n",
       "  'capability.thermostat',\n",
       "  'capability.thermostat',\n",
       "  'capability.thermostat',\n",
       "  'capability.thermostat',\n",
       "  'capability.thermostat'],\n",
       " 'illumination': [],\n",
       " 'location': [],\n",
       " 'motion': [],\n",
       " 'smoke': [],\n",
       " 'leakage': []}"
      ]
     },
     "execution_count": 129,
     "metadata": {},
     "output_type": "execute_result"
    }
   ],
   "source": [
    "dict_actions_related={\"temperature\":[], \"humidity\":[], \"illumination\":[], \"location\":[],\n",
    "                          \"motion\":[], \"smoke\":[], \"leakage\":[]}\n",
    "dict_trigger_related={\"temperature\":[], \"humidity\":[], \"illumination\":[], \"location\":[],\n",
    "                          \"motion\":[], \"smoke\":[], \"leakage\":[]}\n",
    "\n",
    "for app in trigger_action.keys(): # for every app where I can extrapolate info\n",
    "    if app in app_to_physical_channel.keys(): # some app description couldn't have some NN \n",
    "        physical_channel_correlated = app_to_physical_channel[app] # save the physical trigger channel of that app\n",
    "        for trigger_cap in trigger_action[app].keys(): # for every trigger channel of that app\n",
    "            if not trigger_cap in capability_not_accepted: # if the trigger capability is accepted\n",
    "                dict_trigger_related[physical_channel_correlated].append(trigger_cap) # save it \n",
    "                \n",
    "for app in trigger_action.keys(): # for every app where I can extrapolate info\n",
    "    for trigger_cap in trigger_action[app].keys(): # for every app trigger trigger capability\n",
    "        if not trigger_cap in capability_not_accepted: # if trigger capability is accepted\n",
    "            for actions in trigger_action[app][trigger_cap]: # for every action correlated to that trigger capability\n",
    "                action_capability = actions[0] # save the action capability\n",
    "                if not action_capability in capability_not_accepted: # is the action capability is accepted\n",
    "                    for physical_channel in dict_channels_capability.keys(): # for every physical channel\n",
    "                        if action_capability in dict_channels_capability[physical_channel]: # find if there is that action capability\n",
    "                            dict_actions_related[physical_channel].append(action_capability) # if there is save the action capability \n",
    "dict_actions_related"
   ]
  },
  {
   "cell_type": "code",
   "execution_count": 130,
   "id": "d8145fc5",
   "metadata": {},
   "outputs": [
    {
     "data": {
      "text/plain": [
       "array([18, 25,  0,  0,  0,  0,  0])"
      ]
     },
     "execution_count": 130,
     "metadata": {},
     "output_type": "execute_result"
    }
   ],
   "source": [
    "action_related = []\n",
    "for key in dict_actions_related.keys():\n",
    "    action_related.append(len(dict_actions_related[key]))\n",
    "action_related = np.array(action_related)\n",
    "action_related"
   ]
  },
  {
   "cell_type": "code",
   "execution_count": 131,
   "id": "872ff81d",
   "metadata": {},
   "outputs": [
    {
     "data": {
      "text/plain": [
       "array([11, 12,  4, 11, 21,  1, 19])"
      ]
     },
     "execution_count": 131,
     "metadata": {},
     "output_type": "execute_result"
    }
   ],
   "source": [
    "trigger_related = []\n",
    "for key in dict_trigger_related.keys():\n",
    "    trigger_related.append(len(dict_trigger_related[key]))\n",
    "trigger_related = np.array(trigger_related)\n",
    "trigger_related"
   ]
  },
  {
   "cell_type": "code",
   "execution_count": 132,
   "id": "827e362d",
   "metadata": {},
   "outputs": [
    {
     "data": {
      "image/png": "[encoded data removed]",
      "text/plain": [
       "<Figure size 1080x360 with 1 Axes>"
      ]
     },
     "metadata": {
      "needs_background": "light"
     },
     "output_type": "display_data"
    }
   ],
   "source": [
    "import matplotlib.pyplot as plt\n",
    "\n",
    "x = [\"Temperature\",\"Humidity\", \"Illumination\", \"Location\", \"Motion\", \"Smoke\", \"Leakage\" ]\n",
    "x_pos = np.arange(len(x))\n",
    "plt.figure(figsize=[15, 5])\n",
    "plt.bar(x_pos, trigger_related, align='center')\n",
    "plt.xticks(x_pos, x)\n",
    "plt.ylabel('Amount of interactions')\n",
    "plt.xlabel('Channel type')\n",
    "plt.title('Trigger-related Channel analysis')\n",
    "plt.show()"
   ]
  },
  {
   "cell_type": "code",
   "execution_count": 133,
   "id": "56d36570",
   "metadata": {},
   "outputs": [
    {
     "data": {
      "image/png": "[encoded data removed]",
      "text/plain": [
       "<Figure size 1080x360 with 1 Axes>"
      ]
     },
     "metadata": {
      "needs_background": "light"
     },
     "output_type": "display_data"
    }
   ],
   "source": [
    "x_pos = np.arange(len(x))\n",
    "plt.figure(figsize=[15, 5])\n",
    "plt.bar(x_pos, action_related, align='center')\n",
    "plt.xticks(x_pos, x)\n",
    "plt.ylabel('Amount of interactions')\n",
    "plt.xlabel('Channel type')\n",
    "plt.title('Action-related Channel analysis')\n",
    "plt.show()"
   ]
  },
  {
   "cell_type": "code",
   "execution_count": null,
   "id": "d65f42d5",
   "metadata": {},
   "outputs": [],
   "source": []
  },
  {
   "cell_type": "code",
   "execution_count": null,
   "id": "a647a3b8",
   "metadata": {},
   "outputs": [],
   "source": []
  }
 ],
 "metadata": {
  "kernelspec": {
   "display_name": "Python 3",
   "language": "python",
   "name": "python3"
  },
  "language_info": {
   "codemirror_mode": {
    "name": "ipython",
    "version": 3
   },
   "file_extension": ".py",
   "mimetype": "text/x-python",
   "name": "python",
   "nbconvert_exporter": "python",
   "pygments_lexer": "ipython3",
   "version": "3.6.13"
  }
 },
 "nbformat": 4,
 "nbformat_minor": 5
}
