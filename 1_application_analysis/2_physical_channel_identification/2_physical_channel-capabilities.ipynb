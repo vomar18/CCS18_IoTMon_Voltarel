{
 "cells": [
  {
   "cell_type": "markdown",
   "id": "b2199056",
   "metadata": {},
   "source": [
    "## this python script create the correlation between trigger capablity and physical channels"
   ]
  },
  {
   "cell_type": "code",
   "execution_count": 1,
   "id": "75e0ebeb",
   "metadata": {},
   "outputs": [],
   "source": [
    "from gensim.models import Word2Vec, KeyedVectors \n",
    "from scipy.spatial.distance import cdist # for the Manhattan distance\n",
    "import json   # for read the JSON file\n",
    "import stanza # Official Stanford NLP Python Library for Many Human Languages\n",
    "import re     # for preprocessing the descriptions (necessary for using the word2vec)\n",
    "import numpy as np"
   ]
  },
  {
   "cell_type": "code",
   "execution_count": 2,
   "id": "6da7b80c",
   "metadata": {},
   "outputs": [
    {
     "name": "stdout",
     "output_type": "stream",
     "text": [
      "tot app analysed: 84\n"
     ]
    }
   ],
   "source": [
    "file = open(\"trigger-action_FINAL.JSON\",\"r\") # read all the capability extrapolated from the apps\n",
    "trigger_action = json.load(file)\n",
    "print(\"tot app analysed:\",len(trigger_action.keys()))"
   ]
  },
  {
   "cell_type": "code",
   "execution_count": 3,
   "id": "6a1fb373",
   "metadata": {},
   "outputs": [],
   "source": [
    "file = open(\"app-description.JSON\",\"r\") # need the desription of the analysed apps\n",
    "app_description = json.load(file)"
   ]
  },
  {
   "cell_type": "code",
   "execution_count": 4,
   "id": "0d92f3dd",
   "metadata": {},
   "outputs": [],
   "source": [
    "file = open(\"cluster_pysical_channels_FINAL.JSON\",\"r\") \n",
    "dict_physical_channels = json.load(file)"
   ]
  },
  {
   "cell_type": "code",
   "execution_count": 5,
   "id": "f312e068",
   "metadata": {},
   "outputs": [
    {
     "data": {
      "application/vnd.jupyter.widget-view+json": {
       "model_id": "294bdd6c01ff43cdb9986731fa517485",
       "version_major": 2,
       "version_minor": 0
      },
      "text/plain": [
       "Downloading https://raw.githubusercontent.com/stanfordnlp/stanza-resources/main/resources_1.2.2.json:   0%|   …"
      ]
     },
     "metadata": {},
     "output_type": "display_data"
    },
    {
     "name": "stderr",
     "output_type": "stream",
     "text": [
      "2021-09-24 14:30:25 INFO: Downloading default packages for language: en (English)...\n",
      "2021-09-24 14:30:28 INFO: File exists: /home/volta/stanza_resources/en/default.zip.\n",
      "2021-09-24 14:30:33 INFO: Finished downloading models and saved to /home/volta/stanza_resources.\n",
      "2021-09-24 14:30:33 INFO: Loading these models for language: en (English):\n",
      "=========================\n",
      "| Processor | Package   |\n",
      "-------------------------\n",
      "| tokenize  | combined  |\n",
      "| pos       | combined  |\n",
      "| lemma     | combined  |\n",
      "| depparse  | combined  |\n",
      "| sentiment | sstplus   |\n",
      "| ner       | ontonotes |\n",
      "=========================\n",
      "\n",
      "2021-09-24 14:30:33 INFO: Use device: cpu\n",
      "2021-09-24 14:30:33 INFO: Loading: tokenize\n",
      "2021-09-24 14:30:33 INFO: Loading: pos\n",
      "2021-09-24 14:30:33 INFO: Loading: lemma\n",
      "2021-09-24 14:30:33 INFO: Loading: depparse\n",
      "2021-09-24 14:30:34 INFO: Loading: sentiment\n",
      "2021-09-24 14:30:34 INFO: Loading: ner\n",
      "2021-09-24 14:30:35 INFO: Done loading processors!\n"
     ]
    }
   ],
   "source": [
    "stanza.download('en')       # This downloads the English models for the neural pipeline\n",
    "nlp = stanza.Pipeline('en') # This sets up a default neural pipeline in English\n",
    "model = KeyedVectors.load_word2vec_format('/home/volta/Documenti/CCS18_CS/word2vec/GoogleNews-vectors-negative300.bin', binary=True, limit=100000) # load word2vec pre-trained"
   ]
  },
  {
   "cell_type": "code",
   "execution_count": 6,
   "id": "2522ddff",
   "metadata": {},
   "outputs": [
    {
     "name": "stderr",
     "output_type": "stream",
     "text": [
      "/home/volta/.local/lib/python3.6/site-packages/torch/nn/functional.py:652: UserWarning: Named tensors and all their associated APIs are an experimental feature and subject to change. Please do not use them for anything important until they are released as stable. (Triggered internally at  /pytorch/c10/core/TensorImpl.h:1156.)\n",
      "  return torch.max_pool1d(input, kernel_size, stride, padding, dilation, ceil_mode)\n"
     ]
    },
    {
     "name": "stdout",
     "output_type": "stream",
     "text": [
      "beacon-control - ['home', 'phrase', 'door', 'region']\n",
      "most similar: location 18.05603870501121\n",
      "big-turn-off - []\n",
      "-->app [big-turn-off] non presenta nessun NN o NNS\n",
      "big-turn-on - []\n",
      "-->app [big-turn-on] non presenta nessun NN o NNS\n",
      "bon-voyage - ['set', 'presence', 'mode', 'change', 'everyone', 'conjunction', 'turn', 'thermostat', 'security']\n",
      "most similar: illumination 11.48507913031305\n",
      "brighten-dark-places - ['sensor', 'space']\n",
      "most similar: temperature 26.69318007926146\n",
      "brighten-my-path - ['motion']\n",
      "most similar: motion 61.31342649459839\n",
      "button-controller - ['control']\n",
      "most similar: temperature 12.70126374438405\n",
      "camera-power-scheduler - ['power', 'time']\n",
      "most similar: location 15.61408176397284\n",
      "cameras-on-when-im-away - []\n",
      "-->app [cameras-on-when-im-away] non presenta nessun NN o NNS\n",
      "carpool-notifier - ['carpooling', 'person', 'notification']\n",
      "most similar: leakage 19.86181962896477\n",
      "close-the-valve - ['valve', 'moisture', 'sms', 'notification']\n",
      "most similar: temperature 21.51569433948074\n",
      "curling-iron - ['outlet', 'user', 'period', 'time']\n",
      "most similar: location 17.37690567970276\n",
      "darken-behind-me - ['period', 'motion']\n",
      "most similar: motion 31.989962017784517\n",
      "double-tap - ['number', 'switch', 'row']\n",
      "most similar: illumination 12.200692152190538\n",
      "dry-the-wetspot - ['moisture', 'sensor', 'input']\n",
      "most similar: temperature 31.627886100775665\n",
      "elder-care-daily-routine - ['time', 'cabinet', 'door', 'set', 'schedule']\n",
      "most similar: location 13.872017090519268\n",
      "elder-care-slip-fall - ['motion', 'bedroom', 'bathroom', 'night', 'occupant', 'period', 'time']\n",
      "most similar: location 13.960350331451213\n",
      "energy-alerts - ['energy']\n",
      "most similar: temperature 19.69983739157518\n",
      "energy-saver - ['energy']\n",
      "most similar: temperature 19.69983739157518\n",
      "feed-my-pet - ['schedule', 'pet', 'food', 'feeder', 'app', 'time', 'life']\n",
      "most similar: location 14.908739179372787\n",
      "flood-alert - ['push', 'notification', 'text', 'message', 'water']\n",
      "most similar: leakage 25.453584454953678\n",
      "forgiving-security - ['something', 'grace', 'period', 'presence']\n",
      "most similar: location 11.516032360183697\n",
      "garage-door-monitor - ['garage', 'door', 'text', 'message']\n",
      "most similar: leakage 25.666818742386322\n",
      "garage-door-opener - ['garage', 'door', 'switch']\n",
      "most similar: illumination 17.838669702824618\n",
      "good-night - ['motion', 'time', 'night']\n",
      "most similar: motion 26.249043591734434\n",
      "greetings-earthling - ['set', 'presence', 'mode', 'change', 'someone', 'home']\n",
      "most similar: location 14.444323256611824\n",
      "habit-helper - ['something', 'day', 'text', 'message']\n",
      "most similar: leakage 25.312072106383066\n",
      "has-barkley-been-fed - ['schedule', 'pet', 'food', 'feeder', 'app', 'time', 'life']\n",
      "most similar: location 14.908739179372787\n",
      "handling Error:  \"Key 'ip' not present\"\n",
      "hub-ip-notifier - ['hub']\n",
      "most similar: location 27.728187044461567\n",
      "humidity-alert - ['humidity', 'threshold', 'switch']\n",
      "most similar: humidity 22.5032247395979\n",
      "it-moved - ['text', 'movement']\n",
      "most similar: leakage 20.185034180229362\n",
      "its-too-cold - ['temperature', 'setting', 'text', 'heater', 'appliance']\n",
      "most similar: smoke 24.93148922221735\n",
      "handling Error:  \"Key 'a/c' not present\"\n",
      "its-too-hot - ['temperature', 'setting', 'notification', 'unit', 'fan']\n",
      "most similar: temperature 16.813885328980785\n",
      "keep-me-cozy - ['thermostat', 'response', 'mode', 'change', 'energy', 'money']\n",
      "most similar: temperature 15.692274223207884\n",
      "keep-me-cozy-ii - ['temperature', 'sensor', 'space', 'thermostat', 'time']\n",
      "most similar: temperature 29.81809747094909\n",
      "laundry-monitor - ['message', 'light', 'laundry']\n",
      "most similar: leakage 18.751576794029187\n",
      "left-it-open - ['door', 'window', 'amount', 'time']\n",
      "most similar: location 15.176026647289595\n",
      "let-there-be-dark - ['contact', 'sensor']\n",
      "most similar: temperature 23.116003343845172\n",
      "let-there-be-light - ['multi']\n",
      "most similar: illumination 8.525353828445077\n",
      "light-follows-me - ['motion', 'period', 'time']\n",
      "most similar: motion 24.587492365390062\n",
      "lights-off-when-closed - ['sensor']\n",
      "most similar: temperature 39.11241305371125\n",
      "light-up-the-night - []\n",
      "-->app [light-up-the-night] non presenta nessun NN o NNS\n",
      "lock-it-at-a-specific-time - ['door', 'time', 'option', 'contact', 'sensor']\n",
      "most similar: location 15.053827501833439\n",
      "handling Error:  \"Key 'deadbolt' not present\"\n",
      "lock-it-when-i-leave - ['lever', 'lock', 'presence', 'tag', 'smartphone', 'location']\n",
      "most similar: location 18.748154801627003\n",
      "mail-arrived - ['text', 'mail', 'mailbox', 'multi', 'door', 'note', 'battery', 'life']\n",
      "most similar: leakage 20.450785040752226\n",
      "handling Error:  \"Key 'setpoint' not present\"\n",
      "make-it-so - ['set', 'thermostat', 'mode', 'change', 'app', 'state']\n",
      "most similar: humidity 13.680970288502678\n",
      "medicine-management-contact-sensor - ['app', 'ambient', 'light', 'notification', 'drawer', 'cabinet', 'reminder', 'time', 'day', 'draw', 'message', 'led']\n",
      "most similar: leakage 12.439489495679453\n",
      "mini-hue-controller - ['hue']\n",
      "most similar: illumination 15.31428067634503\n",
      "handling Error:  \"Key 'toggling' not present\"\n",
      "nfc-tag-toggle - ['switch', 'lock', 'garage', 'door', 'tag', 'touch', 'event']\n",
      "most similar: illumination 13.29466029025969\n",
      "notify-me-when-it-opens - ['push', 'message', 'phone', 'sensor']\n",
      "most similar: leakage 23.740417521912605\n",
      "once-a-day - ['time']\n",
      "most similar: location 24.665712316830955\n",
      "photo-burst-when - ['burst', 'push', 'notification']\n",
      "most similar: leakage 15.905105057313587\n",
      "handling Error:  \"Key 'curling_iron' not present\"\n",
      "power-allowance - ['energy', 'time', 'appliance', 'tv', 'use', 'switch', 'number']\n",
      "most similar: illumination 15.338327484427108\n",
      "presence-change-push - ['push', 'notification', 'presence', 'tag', 'smartphone', 'location']\n",
      "most similar: location 19.251856870121422\n",
      "presence-change-text - ['text', 'message', 'presence', 'status']\n",
      "most similar: leakage 22.682629057883542\n",
      "handling Error:  \"Key 'inclement' not present\"\n",
      "ready-for-rain - ['weather']\n",
      "most similar: humidity 42.40432067049874\n",
      "ridiculously-automated-garage-door - ['arrival', 'departure', 'car', 'door', 'n', 'motion', 'interior']\n",
      "most similar: motion 13.181370583229832\n",
      "rise-and-shine - ['someone', 'time', 'morning']\n",
      "most similar: location 18.08208939101961\n",
      "scheduled-mode-change - ['time', 'day']\n",
      "most similar: location 22.022296736637752\n",
      "sleepy-time - ['sleep', 'mode', 'house', 'bed', 'morning', 'button', 'up']\n",
      "most similar: temperature 13.721238536804561\n",
      "smart-care-daily-routine - ['time', 'cabinet', 'door', 'set', 'schedule']\n",
      "most similar: location 13.872017090519268\n",
      "smart-care-detect-motion - ['motion', 'bedroom', 'bathroom', 'night', 'occupant', 'period', 'time']\n",
      "most similar: location 13.960350331451213\n",
      "handling Error:  \"Key 'humidifier' not present\"\n",
      "smart-humidifier - ['humidity', 'sensor']\n",
      "most similar: temperature 41.258761659264565\n",
      "smart-nightlight - ['motion', 'light', 'time']\n",
      "most similar: motion 27.88106007501483\n",
      "smart-security - ['glass', 'water', 'middle', 'night']\n",
      "most similar: temperature 15.38648716523312\n",
      "smart-turn-it-on - ['device', 'time', 'week', 'person']\n",
      "most similar: location 18.037851123760145\n",
      "sunrise-sunset - ['mode', 'sunrise', 'sunset']\n",
      "most similar: illumination 14.944141432642935\n",
      "text-me-when-it-opens - ['text', 'message', 'phone', 'sensor']\n",
      "most similar: leakage 30.993389735125348\n",
      "text-me-when-theres-motion-and-im-not-here - ['text', 'message', 'motion']\n",
      "most similar: motion 29.711152364810307\n",
      "the-big-switch - ['collection', 'state', 'switch']\n",
      "most similar: illumination 11.648373539145622\n",
      "the-flasher - ['set', 'response', 'motion', 'event', 'switch']\n",
      "most similar: motion 23.692392023901142\n",
      "the-gun-case-moved - ['text', 'gun', 'case']\n",
      "most similar: leakage 17.58760560134595\n",
      "thermostat-auto-off - ['thermostat', 'everything']\n",
      "most similar: humidity 27.08447819782628\n",
      "thermostats - ['anything', 'home']\n",
      "most similar: location 16.522202516595524\n",
      "turn-it-on-for-5-minutes - ['switch']\n",
      "most similar: illumination 26.275758842627205\n",
      "turn-it-on-when-im-here - ['something']\n",
      "most similar: location 16.292492051919304\n",
      "turn-it-on-when-it-opens - ['something', 'sensor']\n",
      "most similar: temperature 24.568917602300644\n",
      "turn-on-only-if-i-arrive-after-sunset - ['something', 'sunset', 'anytime']\n",
      "most similar: location 14.649277759922876\n",
      "undead-early-warning - ['warning']\n",
      "most similar: leakage 18.856206333095376\n"
     ]
    },
    {
     "name": "stdout",
     "output_type": "stream",
     "text": [
      "unlock-it-when-i-arrive - ['door', 'location']\n",
      "most similar: location 34.59056963523229\n",
      "virtual-thermostat - ['space', 'heater', 'window', 'air_conditioner', 'conjunction', 'temperature', 'sensor', 'multi']\n",
      "most similar: temperature 25.85517429833999\n",
      "when-its-going-to-rain - ['shed', 'grill', 'lawn', 'tomorrow']\n",
      "most similar: illumination 13.349007775153343\n",
      "whole-house-fan - ['house', 'fan', 'switch', 'x', 'temp', 'thermostat']\n",
      "most similar: smoke 18.34667609546159\n",
      "working-from-home - ['time', 'day', 'person', 'home', 'action']\n",
      "most similar: location 19.786907682816192\n"
     ]
    }
   ],
   "source": [
    "POS_accepted=[\"NN\"]          # part of speech tags accepted ---> deleted: \"NNS\", \"NNP\", \"NNPS\"\n",
    "app_to_physical_channel = {} # dictionary made of [samsung-app]: \"correlated physical channel\"\n",
    "for app in trigger_action.keys(): # analyse every samsung app\n",
    "    keywords = [] # keywords found of an app description \n",
    "    #print(\"analysing app description\", app)\n",
    "    #app=\"beacon-control\"\n",
    "    des_analysed = nlp(app_description[app])         # apply Stanford NLP to description\n",
    "    for sent in des_analysed.sentences:\n",
    "        for word in sent.words:                      # check each word of the description\n",
    "            if word.xpos in POS_accepted:\n",
    "                keyword_found = word.text.lower()    # filter: to all lowercase words\n",
    "                if not keyword_found in keywords:    # if not already saved, \n",
    "                    #print(f\"found word:{word.text}   \\txpos: {word.xpos}\\n\")\n",
    "                    keywords.append(keyword_found)   # add to the list of keywords\n",
    "\n",
    "    # after finish to check the app description keywords\n",
    "    clean_keywords = [] # find what words can be really processed by word2vec\n",
    "    for i in range(len(keywords)):                   # for every keyword exstracted\n",
    "        try:\n",
    "            model[keywords[i]]                       # check Word2Vec\n",
    "            clean_keywords.append(keywords[i])       # if can apply word2vec save it\n",
    "        except KeyError as err:\n",
    "            print(\"handling Error: \", err)           # some words can not be processed by Word2Vec\n",
    "\n",
    "    print(app,\"-\", clean_keywords)        \n",
    "    similarity_matrix = {}\n",
    "\n",
    "    if len(clean_keywords) == 0: # case there aren't any NN keyword inside that app description (strange)\n",
    "        print(f\"-->app [{app}] non presenta nessun NN o NNS\")\n",
    "\n",
    "    else:\n",
    "        if len(clean_keywords) == 1: # case there are only 1 NN keyword inside that app description\n",
    "            for key in dict_physical_channels.keys(): # check for every physical channel\n",
    "                similarity_temp = 0\n",
    "                for channel_NN in dict_physical_channels[key]: # for every keyword inside the channel cluster\n",
    "                    similarity_temp += model.similarity(clean_keywords[0],channel_NN)\n",
    "                # divide by the number of cluster keywords --> result: the mean of similarity\n",
    "                similarity_matrix[key] = (similarity_temp/len(dict_physical_channels[key]))*100\n",
    "\n",
    "        else: # case there are more than 1 NN keyword inside that app description\n",
    "            for key in dict_physical_channels.keys(): # check for every physical channel\n",
    "                similarity_partial = 0\n",
    "                for keyword in clean_keywords: # for every keyword NN extracted from description\n",
    "                    similarity_temp = 0\n",
    "                    for channel_NN in dict_physical_channels[key]:  # for every keyword inside the channel cluster\n",
    "                        #print(keyword,channel_NN,\"\\t\", model.similarity(keyword,channel_NN))\n",
    "                        similarity_temp += model.similarity(keyword,channel_NN)\n",
    "                     # divide by the number of cluster keywords --> result: the mean of similarity (given by only 1 NN)\n",
    "                    similarity_temp = similarity_temp/len(dict_physical_channels[key])\n",
    "                    #print(keyword, similarity_temp)\n",
    "                    similarity_partial += similarity_temp\n",
    "                    #print(keyword, similarity_partial)\n",
    "                #print(\"this keyword for \",key,\"has got a level\", similarity_partial/len(clean_keywords))\n",
    "                similarity_matrix[key] = (similarity_partial/len(clean_keywords))*100\n",
    "        # now find the highest physical channel association \n",
    "        channel_association = \"\"\n",
    "        max_value = 0\n",
    "        for key in similarity_matrix.keys():\n",
    "            if (similarity_matrix[key] > max_value):\n",
    "                max_value = similarity_matrix[key]\n",
    "                channel_association = key\n",
    "                \n",
    "        print(\"most similar:\", channel_association, max_value)\n",
    "        app_to_physical_channel[app] = channel_association"
   ]
  },
  {
   "cell_type": "code",
   "execution_count": 7,
   "id": "d40bb49e",
   "metadata": {},
   "outputs": [
    {
     "data": {
      "text/plain": [
       "{'beacon-control': 'location',\n",
       " 'bon-voyage': 'illumination',\n",
       " 'brighten-dark-places': 'temperature',\n",
       " 'brighten-my-path': 'motion',\n",
       " 'button-controller': 'temperature',\n",
       " 'camera-power-scheduler': 'location',\n",
       " 'carpool-notifier': 'leakage',\n",
       " 'close-the-valve': 'temperature',\n",
       " 'curling-iron': 'location',\n",
       " 'darken-behind-me': 'motion',\n",
       " 'double-tap': 'illumination',\n",
       " 'dry-the-wetspot': 'temperature',\n",
       " 'elder-care-daily-routine': 'location',\n",
       " 'elder-care-slip-fall': 'location',\n",
       " 'energy-alerts': 'temperature',\n",
       " 'energy-saver': 'temperature',\n",
       " 'feed-my-pet': 'location',\n",
       " 'flood-alert': 'leakage',\n",
       " 'forgiving-security': 'location',\n",
       " 'garage-door-monitor': 'leakage',\n",
       " 'garage-door-opener': 'illumination',\n",
       " 'good-night': 'motion',\n",
       " 'greetings-earthling': 'location',\n",
       " 'habit-helper': 'leakage',\n",
       " 'has-barkley-been-fed': 'location',\n",
       " 'hub-ip-notifier': 'location',\n",
       " 'humidity-alert': 'humidity',\n",
       " 'it-moved': 'leakage',\n",
       " 'its-too-cold': 'smoke',\n",
       " 'its-too-hot': 'temperature',\n",
       " 'keep-me-cozy': 'temperature',\n",
       " 'keep-me-cozy-ii': 'temperature',\n",
       " 'laundry-monitor': 'leakage',\n",
       " 'left-it-open': 'location',\n",
       " 'let-there-be-dark': 'temperature',\n",
       " 'let-there-be-light': 'illumination',\n",
       " 'light-follows-me': 'motion',\n",
       " 'lights-off-when-closed': 'temperature',\n",
       " 'lock-it-at-a-specific-time': 'location',\n",
       " 'lock-it-when-i-leave': 'location',\n",
       " 'mail-arrived': 'leakage',\n",
       " 'make-it-so': 'humidity',\n",
       " 'medicine-management-contact-sensor': 'leakage',\n",
       " 'mini-hue-controller': 'illumination',\n",
       " 'nfc-tag-toggle': 'illumination',\n",
       " 'notify-me-when-it-opens': 'leakage',\n",
       " 'once-a-day': 'location',\n",
       " 'photo-burst-when': 'leakage',\n",
       " 'power-allowance': 'illumination',\n",
       " 'presence-change-push': 'location',\n",
       " 'presence-change-text': 'leakage',\n",
       " 'ready-for-rain': 'humidity',\n",
       " 'ridiculously-automated-garage-door': 'motion',\n",
       " 'rise-and-shine': 'location',\n",
       " 'scheduled-mode-change': 'location',\n",
       " 'sleepy-time': 'temperature',\n",
       " 'smart-care-daily-routine': 'location',\n",
       " 'smart-care-detect-motion': 'location',\n",
       " 'smart-humidifier': 'temperature',\n",
       " 'smart-nightlight': 'motion',\n",
       " 'smart-security': 'temperature',\n",
       " 'smart-turn-it-on': 'location',\n",
       " 'sunrise-sunset': 'illumination',\n",
       " 'text-me-when-it-opens': 'leakage',\n",
       " 'text-me-when-theres-motion-and-im-not-here': 'motion',\n",
       " 'the-big-switch': 'illumination',\n",
       " 'the-flasher': 'motion',\n",
       " 'the-gun-case-moved': 'leakage',\n",
       " 'thermostat-auto-off': 'humidity',\n",
       " 'thermostats': 'location',\n",
       " 'turn-it-on-for-5-minutes': 'illumination',\n",
       " 'turn-it-on-when-im-here': 'location',\n",
       " 'turn-it-on-when-it-opens': 'temperature',\n",
       " 'turn-on-only-if-i-arrive-after-sunset': 'location',\n",
       " 'undead-early-warning': 'leakage',\n",
       " 'unlock-it-when-i-arrive': 'location',\n",
       " 'virtual-thermostat': 'temperature',\n",
       " 'when-its-going-to-rain': 'illumination',\n",
       " 'whole-house-fan': 'smoke',\n",
       " 'working-from-home': 'location'}"
      ]
     },
     "execution_count": 7,
     "metadata": {},
     "output_type": "execute_result"
    }
   ],
   "source": [
    "app_to_physical_channel"
   ]
  },
  {
   "cell_type": "code",
   "execution_count": 8,
   "id": "b2f4d5fc",
   "metadata": {},
   "outputs": [],
   "source": [
    "dict_channels_capability={\"temperature\":[], \"humidity\":[], \"illumination\":[], \"location\":[],\n",
    "                          \"motion\":[], \"smoke\":[], \"leakage\":[]}\n",
    "\n",
    "# this are the capability related to the system channel (so not physical channel related capabilities)\n",
    "capability_not_accepted = [\"capability.app\",\"time\", \"sendAction\", \"locationMode\", \"hub\",\n",
    "                          \"capability.switch\", \"capability.lock\", \"capability.button\",\n",
    "                           \"capability.powerMeter\",\"device.jawboneUser\", \"capability.alarm\"]\n",
    "\n",
    "for app in app_to_physical_channel.keys(): # for every analysed app\n",
    "    list_of_capabilities = trigger_action[app].keys() # save the trigger capabilities \n",
    "    for capability in list_of_capabilities:\n",
    "        if not capability in capability_not_accepted: # if is a physical channel related capability\n",
    "            if not capability in dict_channels_capability[app_to_physical_channel[app]]: # if not duplicated\n",
    "                dict_channels_capability[app_to_physical_channel[app]].append(capability)"
   ]
  },
  {
   "cell_type": "code",
   "execution_count": 9,
   "id": "7a6be4b1",
   "metadata": {},
   "outputs": [
    {
     "data": {
      "text/plain": [
       "{'temperature': ['capability.contactSensor',\n",
       "  'capability.waterSensor',\n",
       "  'capability.temperatureMeasurement',\n",
       "  'capability.thermostat',\n",
       "  'capability.location',\n",
       "  'capability.relativeHumidityMeasurement',\n",
       "  'capability.motionSensor'],\n",
       " 'humidity': ['capability.relativeHumidityMeasurement',\n",
       "  'capability.location',\n",
       "  'capability.contactSensor'],\n",
       " 'illumination': ['capability.presenceSensor',\n",
       "  'capability.contactSensor',\n",
       "  'capability.touchSensor',\n",
       "  'capability.location'],\n",
       " 'location': ['capability.beacon',\n",
       "  'capability.motionSensor',\n",
       "  'capability.presenceSensor',\n",
       "  'capability.contactSensor',\n",
       "  'capability.location',\n",
       "  'capability.smokeDetector',\n",
       "  'capability.carbonMonoxideDetector'],\n",
       " 'motion': ['capability.motionSensor',\n",
       "  'capability.location',\n",
       "  'capability.presenceSensor',\n",
       "  'capability.accelerationSensor',\n",
       "  'capability.contactSensor'],\n",
       " 'smoke': ['capability.temperatureMeasurement',\n",
       "  'capability.thermostat',\n",
       "  'capability.contactSensor'],\n",
       " 'leakage': ['capability.presenceSensor',\n",
       "  'capability.waterSensor',\n",
       "  'capability.threeAxis',\n",
       "  'capability.accelerationSensor',\n",
       "  'capability.contactSensor',\n",
       "  'capability.motionSensor']}"
      ]
     },
     "execution_count": 9,
     "metadata": {},
     "output_type": "execute_result"
    }
   ],
   "source": [
    "dict_channels_capability"
   ]
  },
  {
   "cell_type": "code",
   "execution_count": 11,
   "id": "00f59953",
   "metadata": {},
   "outputs": [],
   "source": [
    "with open(\"set_of_capability_related_physical_channels.JSON\",\"w\") as outfile:\n",
    "    json.dump(dict_channels_capability, outfile)"
   ]
  },
  {
   "cell_type": "markdown",
   "id": "b12213b5",
   "metadata": {},
   "source": [
    "## analysis of the number of trigger-capability and action-capability"
   ]
  },
  {
   "cell_type": "code",
   "execution_count": 18,
   "id": "15dd59c4",
   "metadata": {},
   "outputs": [
    {
     "data": {
      "text/plain": [
       "{'temperature': ['capability.thermostat',\n",
       "  'capability.thermostat',\n",
       "  'capability.thermostat',\n",
       "  'capability.thermostat',\n",
       "  'capability.thermostat',\n",
       "  'capability.thermostat',\n",
       "  'capability.thermostat',\n",
       "  'capability.thermostat',\n",
       "  'capability.thermostat',\n",
       "  'capability.thermostat',\n",
       "  'capability.thermostat',\n",
       "  'capability.thermostat',\n",
       "  'capability.thermostat',\n",
       "  'capability.thermostat',\n",
       "  'capability.thermostat',\n",
       "  'capability.thermostat',\n",
       "  'capability.thermostat',\n",
       "  'capability.thermostat'],\n",
       " 'humidity': [],\n",
       " 'illumination': [],\n",
       " 'location': [],\n",
       " 'motion': [],\n",
       " 'smoke': ['capability.thermostat',\n",
       "  'capability.thermostat',\n",
       "  'capability.thermostat',\n",
       "  'capability.thermostat',\n",
       "  'capability.thermostat',\n",
       "  'capability.thermostat',\n",
       "  'capability.thermostat',\n",
       "  'capability.thermostat',\n",
       "  'capability.thermostat',\n",
       "  'capability.thermostat',\n",
       "  'capability.thermostat',\n",
       "  'capability.thermostat',\n",
       "  'capability.thermostat',\n",
       "  'capability.thermostat',\n",
       "  'capability.thermostat',\n",
       "  'capability.thermostat',\n",
       "  'capability.thermostat',\n",
       "  'capability.thermostat'],\n",
       " 'leakage': []}"
      ]
     },
     "execution_count": 18,
     "metadata": {},
     "output_type": "execute_result"
    }
   ],
   "source": [
    "dict_actions_related={\"temperature\":[], \"humidity\":[], \"illumination\":[], \"location\":[],\n",
    "                          \"motion\":[], \"smoke\":[], \"leakage\":[]}\n",
    "dict_trigger_related={\"temperature\":[], \"humidity\":[], \"illumination\":[], \"location\":[],\n",
    "                          \"motion\":[], \"smoke\":[], \"leakage\":[]}\n",
    "\n",
    "for app in trigger_action.keys(): # for every app where I can extrapolate info\n",
    "    if app in app_to_physical_channel.keys(): # some app description couldn't have some NN \n",
    "        physical_channel_correlated = app_to_physical_channel[app] # save the physical trigger channel of that app\n",
    "        for trigger_cap in trigger_action[app].keys(): # for every trigger channel of that app\n",
    "            if not trigger_cap in capability_not_accepted: # if the trigger capability is correlated to physical channel\n",
    "                dict_trigger_related[physical_channel_correlated].append(trigger_cap) # save it \n",
    "                \n",
    "for app in trigger_action.keys(): # for every app where I can extrapolate info\n",
    "    for trigger_cap in trigger_action[app].keys(): # for every app trigger trigger capability\n",
    "        if not trigger_cap in capability_not_accepted: # if trigger capability is related to physical channel\n",
    "            for actions in trigger_action[app][trigger_cap]: # for every action correlated to that trigger capability\n",
    "                action_capability = actions[0] # save the action capability\n",
    "                if not action_capability in capability_not_accepted: # is the action capability is related to physical channel\n",
    "                    for physical_channel in dict_channels_capability.keys(): # for every physical channel\n",
    "                        if action_capability in dict_channels_capability[physical_channel]: # find if there is that action capability\n",
    "                            dict_actions_related[physical_channel].append(action_capability) # if there is save the action capability \n",
    "dict_actions_related"
   ]
  },
  {
   "cell_type": "code",
   "execution_count": 19,
   "id": "d8145fc5",
   "metadata": {},
   "outputs": [
    {
     "data": {
      "text/plain": [
       "array([18,  0,  0,  0,  0, 18,  0])"
      ]
     },
     "execution_count": 19,
     "metadata": {},
     "output_type": "execute_result"
    }
   ],
   "source": [
    "action_related = []\n",
    "for key in dict_actions_related.keys():\n",
    "    action_related.append(len(dict_actions_related[key]))\n",
    "action_related = np.array(action_related)\n",
    "action_related"
   ]
  },
  {
   "cell_type": "code",
   "execution_count": 20,
   "id": "872ff81d",
   "metadata": {},
   "outputs": [
    {
     "data": {
      "text/plain": [
       "array([17,  4,  5, 18, 14,  4, 16])"
      ]
     },
     "execution_count": 20,
     "metadata": {},
     "output_type": "execute_result"
    }
   ],
   "source": [
    "trigger_related = []\n",
    "for key in dict_trigger_related.keys():\n",
    "    trigger_related.append(len(dict_trigger_related[key]))\n",
    "trigger_related = np.array(trigger_related)\n",
    "trigger_related"
   ]
  },
  {
   "cell_type": "code",
   "execution_count": 21,
   "id": "827e362d",
   "metadata": {},
   "outputs": [
    {
     "data": {
      "image/png": "[encoded data removed]",
      "text/plain": [
       "<Figure size 1080x360 with 1 Axes>"
      ]
     },
     "metadata": {
      "needs_background": "light"
     },
     "output_type": "display_data"
    }
   ],
   "source": [
    "import matplotlib.pyplot as plt\n",
    "\n",
    "x = [\"Temperature\",\"Humidity\", \"Illumination\", \"Location\", \"Motion\", \"Smoke\", \"Leakage\" ]\n",
    "x_pos = np.arange(len(x))\n",
    "plt.figure(figsize=[15, 5])\n",
    "plt.bar(x_pos, trigger_related, align='center')\n",
    "plt.xticks(x_pos, x)\n",
    "plt.ylabel('Amount of interactions')\n",
    "plt.xlabel('Channel type')\n",
    "plt.title('Trigger-related Channel analysis')\n",
    "plt.show()"
   ]
  },
  {
   "cell_type": "code",
   "execution_count": 22,
   "id": "56d36570",
   "metadata": {},
   "outputs": [
    {
     "data": {
      "image/png": "[encoded data removed]",
      "text/plain": [
       "<Figure size 1080x360 with 1 Axes>"
      ]
     },
     "metadata": {
      "needs_background": "light"
     },
     "output_type": "display_data"
    }
   ],
   "source": [
    "x_pos = np.arange(len(x))\n",
    "plt.figure(figsize=[15, 5])\n",
    "plt.bar(x_pos, action_related, align='center')\n",
    "plt.xticks(x_pos, x)\n",
    "plt.ylabel('Amount of interactions')\n",
    "plt.xlabel('Channel type')\n",
    "plt.title('Action-related Channel analysis')\n",
    "plt.show()"
   ]
  },
  {
   "cell_type": "code",
   "execution_count": null,
   "id": "d65f42d5",
   "metadata": {},
   "outputs": [],
   "source": []
  },
  {
   "cell_type": "code",
   "execution_count": null,
   "id": "21974fba",
   "metadata": {},
   "outputs": [],
   "source": []
  }
 ],
 "metadata": {
  "kernelspec": {
   "display_name": "Python 3",
   "language": "python",
   "name": "python3"
  },
  "language_info": {
   "codemirror_mode": {
    "name": "ipython",
    "version": 3
   },
   "file_extension": ".py",
   "mimetype": "text/x-python",
   "name": "python",
   "nbconvert_exporter": "python",
   "pygments_lexer": "ipython3",
   "version": "3.6.13"
  }
 },
 "nbformat": 4,
 "nbformat_minor": 5
}
